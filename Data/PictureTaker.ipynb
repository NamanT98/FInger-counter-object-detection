{
 "cells": [
  {
   "cell_type": "code",
   "execution_count": 1,
   "metadata": {},
   "outputs": [],
   "source": [
    "import cv2\n",
    "import os"
   ]
  },
  {
   "cell_type": "code",
   "execution_count": 6,
   "metadata": {},
   "outputs": [],
   "source": [
    "def take_image():\n",
    "    cap=cv2.VideoCapture(0)\n",
    "    print(\"Capturing Started..\")\n",
    "\n",
    "    while True:\n",
    "        ret,img=cap.read()\n",
    "        cv2.imshow(\"Image data collector\",img)\n",
    "        key=cv2.waitKey(1)\n",
    "        \n",
    "        if key==ord(\"0\"):\n",
    "            dir='Number_0'\n",
    "            if not os.path.exists(dir):\n",
    "                os.mkdir(dir)\n",
    "            num=len(os.listdir(dir))\n",
    "            cv2.imwrite(dir+f\"/{num+1}.jpeg\",img)\n",
    "            print(f\"File Saved as {num+1}.jpeg in {dir}\")\n",
    "\n",
    "        if key==ord(\"1\"):\n",
    "            dir='Number_1'\n",
    "            if not os.path.exists(dir):\n",
    "                os.mkdir(dir)\n",
    "            num=len(os.listdir(dir))\n",
    "            cv2.imwrite(dir+f\"/{num+1}.jpeg\",img)\n",
    "            print(f\"File Saved as {num+1}.jpeg in {dir}\")\n",
    "\n",
    "        if key==ord(\"2\"):\n",
    "            dir='Number_2'\n",
    "            if not os.path.exists(dir):\n",
    "                os.mkdir(dir)\n",
    "            num=len(os.listdir(dir))\n",
    "            cv2.imwrite(dir+f\"/{num+1}.jpeg\",img)\n",
    "            print(f\"File Saved as {num+1}.jpeg in {dir}\")\n",
    "\n",
    "        if key==ord(\"3\"):\n",
    "            dir='Number_3'\n",
    "            if not os.path.exists(dir):\n",
    "                os.mkdir(dir)\n",
    "            num=len(os.listdir(dir))\n",
    "            cv2.imwrite(dir+f\"/{num+1}.jpeg\",img)\n",
    "            print(f\"File Saved as {num+1}.jpeg in {dir}\")\n",
    "\n",
    "        if key==ord(\"4\"):\n",
    "            dir='Number_4'\n",
    "            if not os.path.exists(dir):\n",
    "                os.mkdir(dir)\n",
    "            num=len(os.listdir(dir))\n",
    "            cv2.imwrite(dir+f\"/{num+1}.jpeg\",img)\n",
    "            print(f\"File Saved as {num+1}.jpeg in {dir}\")\n",
    "\n",
    "        if key==ord(\"5\"):\n",
    "            dir='Number_5'\n",
    "            if not os.path.exists(dir):\n",
    "                os.mkdir(dir)\n",
    "            num=len(os.listdir(dir))\n",
    "            cv2.imwrite(dir+f\"/{num+1}.jpeg\",img)\n",
    "            print(f\"File Saved as {num+1}.jpeg in {dir}\")\n",
    "\n",
    "        if key==ord(\"q\"):\n",
    "            print(\"Capturing completed..\")\n",
    "            break\n",
    "    cv2.destroyAllWindows()\n",
    "        "
   ]
  },
  {
   "cell_type": "code",
   "execution_count": 7,
   "metadata": {},
   "outputs": [
    {
     "name": "stdout",
     "output_type": "stream",
     "text": [
      "Capturing Started..\n",
      "File Saved as 1.jpeg in Number 1\n",
      "File Saved as 1.jpeg in Number 2\n",
      "File Saved as 1.jpeg in Number 3\n",
      "File Saved as 1.jpeg in Number 4\n",
      "File Saved as 1.jpeg in Number 5\n",
      "File Saved as 2.jpeg in Number 3\n",
      "File Saved as 3.jpeg in Number 3\n",
      "File Saved as 4.jpeg in Number 3\n",
      "File Saved as 5.jpeg in Number 3\n",
      "File Saved as 6.jpeg in Number 3\n",
      "File Saved as 7.jpeg in Number 3\n",
      "File Saved as 8.jpeg in Number 3\n",
      "File Saved as 9.jpeg in Number 3\n",
      "File Saved as 10.jpeg in Number 3\n",
      "File Saved as 11.jpeg in Number 3\n",
      "File Saved as 2.jpeg in Number 4\n",
      "File Saved as 2.jpeg in Number 5\n",
      "File Saved as 2.jpeg in Number 2\n",
      "File Saved as 12.jpeg in Number 3\n",
      "File Saved as 3.jpeg in Number 4\n",
      "File Saved as 3.jpeg in Number 2\n",
      "File Saved as 2.jpeg in Number 1\n",
      "File Saved as 13.jpeg in Number 3\n",
      "File Saved as 4.jpeg in Number 4\n",
      "File Saved as 4.jpeg in Number 2\n",
      "File Saved as 5.jpeg in Number 2\n",
      "File Saved as 14.jpeg in Number 3\n",
      "File Saved as 5.jpeg in Number 4\n",
      "File Saved as 3.jpeg in Number 1\n",
      "File Saved as 6.jpeg in Number 2\n",
      "File Saved as 15.jpeg in Number 3\n",
      "File Saved as 1.jpeg in Number 0\n",
      "File Saved as 2.jpeg in Number 0\n",
      "File Saved as 3.jpeg in Number 0\n",
      "File Saved as 4.jpeg in Number 0\n",
      "File Saved as 5.jpeg in Number 0\n",
      "Capturing completed..\n"
     ]
    }
   ],
   "source": [
    "take_image()"
   ]
  },
  {
   "cell_type": "code",
   "execution_count": null,
   "metadata": {},
   "outputs": [],
   "source": []
  }
 ],
 "metadata": {
  "kernelspec": {
   "display_name": "Python 3",
   "language": "python",
   "name": "python3"
  },
  "language_info": {
   "codemirror_mode": {
    "name": "ipython",
    "version": 3
   },
   "file_extension": ".py",
   "mimetype": "text/x-python",
   "name": "python",
   "nbconvert_exporter": "python",
   "pygments_lexer": "ipython3",
   "version": "3.10.6"
  },
  "orig_nbformat": 4
 },
 "nbformat": 4,
 "nbformat_minor": 2
}
